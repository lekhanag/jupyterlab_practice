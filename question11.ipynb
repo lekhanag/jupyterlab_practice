{
 "cells": [
  {
   "cell_type": "markdown",
   "id": "9bc727ab-9406-4665-beb0-1381c3363a70",
   "metadata": {},
   "source": [
    "# LEKHANA GUNDA\n",
    "Notebook for assignment 7"
   ]
  },
  {
   "cell_type": "code",
   "execution_count": 1,
   "id": "2e40c9e4-0982-4fc1-9788-188bd7470329",
   "metadata": {},
   "outputs": [
    {
     "data": {
      "text/plain": [
       "5.0"
      ]
     },
     "execution_count": 1,
     "metadata": {},
     "output_type": "execute_result"
    }
   ],
   "source": [
    "def compute_mean(myList):\n",
    "    total = 0\n",
    "    count = 0 \n",
    "    for i in myList:\n",
    "        total = total + i \n",
    "        count = count + 1\n",
    "        arraymean = total/count\n",
    "    return arraymean\n",
    "\n",
    "compute_mean([2, 4, 6, 8])\n"
   ]
  },
  {
   "cell_type": "markdown",
   "id": "a7737020-d193-41be-956c-89884541b9af",
   "metadata": {},
   "source": [
    "In my code, I took 2 variables total and count and initialised them to 0.\n",
    "'total' adds the each element of my list to the total.\n",
    "'count' Counts the number of elements (increases by 1 in each loop iteration).\n",
    "Then finally, calculating mean by dividing the sum of all list values(i.e., total) with the length of the list(i.e., count).\n",
    "\n",
    "Equation of my mean:\n",
    "$$\n",
    "\\bar{x} = \\frac{{x}_1 + {x}_2 + ... + {x}_n}{n} = \\frac{1}{n} \\Bigg( \\sum_{i=1}^{n} x_i \\Bigg )\n",
    "$$\n"
   ]
  }
 ],
 "metadata": {
  "kernelspec": {
   "display_name": "Python 3 (ipykernel)",
   "language": "python",
   "name": "python3"
  },
  "language_info": {
   "codemirror_mode": {
    "name": "ipython",
    "version": 3
   },
   "file_extension": ".py",
   "mimetype": "text/x-python",
   "name": "python",
   "nbconvert_exporter": "python",
   "pygments_lexer": "ipython3",
   "version": "3.11.8"
  }
 },
 "nbformat": 4,
 "nbformat_minor": 5
}
